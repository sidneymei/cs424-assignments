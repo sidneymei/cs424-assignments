{
 "cells": [
  {
   "cell_type": "markdown",
   "id": "86dffe9e",
   "metadata": {},
   "source": []
  },
  {
   "cell_type": "code",
   "execution_count": null,
   "id": "af1d37e0",
   "metadata": {},
   "outputs": [],
   "source": [
    "import pandas as pd\n",
    "import altair as alt # Enables the use of VegaLite v5 schema\n",
    "import geopandas as gpd # For beat boundaries in the maps\n",
    "import numpy as np\n",
    "alt.data_transformers.enable(\"vegafusion\") # Enable large datasets"
   ]
  },
  {
   "cell_type": "markdown",
   "id": "4aaca965",
   "metadata": {},
   "source": [
    "#### Downcasting Data Types\n",
    "\n",
    "This will reduce the `DataFrame`'s memory usage."
   ]
  },
  {
   "cell_type": "code",
   "execution_count": null,
   "id": "55c82f19",
   "metadata": {},
   "outputs": [],
   "source": [
    "dt_cols = ['crash_date', 'date_police_notified']\n",
    "\n",
    "uint8_cols = ['posted_speed_limit', 'num_units', 'injuries_total', 'injuries_fatal', 'injuries_incapacitating', 'injuries_non_incapacitating', 'injuries_reported_not_evident', 'injuries_no_indication', 'injuries_unknown', 'crash_hour', 'crash_day_of_week', 'crash_month']\n",
    "uint32_cols = ['lane_cnt', 'street_no']\n",
    "float32_cols = ['latitude', 'longitude']\n",
    "\n",
    "dtypes = {}\n",
    "\n",
    "for col in uint8_cols:\n",
    "    dtypes[col] = 'uint8'\n",
    "\n",
    "for col in uint32_cols:\n",
    "    dtypes[col] = 'uint32'\n",
    "\n",
    "for col in float32_cols:\n",
    "    dtypes[col] = 'float32'\n",
    "\n",
    "dtypes['beat_of_occurrence'] = 'uint16'\n",
    "\n",
    "# Load the dataset\n",
    "file_path = 'data.csv'\n",
    "df = pd.read_csv(file_path, dtype=dtypes, parse_dates=dt_cols)"
   ]
  },
  {
   "cell_type": "markdown",
   "id": "721dae22",
   "metadata": {},
   "source": [
    "### Single View Visualizations (6)\n",
    "\n",
    "#### 1. Calendar Heatmap\n",
    "\n",
    "This visualization corresponds to our first goal.\n",
    "\n",
    "Due to limitations, the ax"
   ]
  },
  {
   "cell_type": "code",
   "execution_count": null,
   "id": "348d7274",
   "metadata": {},
   "outputs": [],
   "source": [
    "df['crash_date_only'] = df['crash_date'].dt.date.astype(str)\n",
    "df['crash_time'] = df['crash_date'].dt.time.astype(str)\n",
    "\n",
    "df['adjusted_date'] = df['crash_date'] - pd.to_timedelta((df['crash_date'].dt.dayofweek + 1) % 7, unit='d')\n",
    "df['crash_week'] = ((df['adjusted_date'].dt.dayofyear - 1) // 7 + 1).astype(str).str.zfill(2)\n",
    "\n",
    "df_23 = df[df['crash_date'].dt.year == 2023]"
   ]
  },
  {
   "cell_type": "code",
   "execution_count": null,
   "id": "70373e93",
   "metadata": {},
   "outputs": [],
   "source": [
    "alt.Chart(df_23).mark_rect().transform_calculate(\n",
    "    day_name=\"['Sun', 'Mon', 'Tue', 'Wed', 'Thu', 'Fri', 'Sat'][datum.crash_day_of_week - 1]\"\n",
    ").encode(\n",
    "    x=alt.X('crash_week:O', title='Week'),\n",
    "    y=alt.Y('day_name:N', title='Day of Week'),\n",
    "    color=alt.Color('count():Q', scale=alt.Scale(scheme='greens'), title=None),\n",
    "    tooltip=[\n",
    "        alt.Tooltip('crash_date_only:N', title='Date'),\n",
    "        alt.Tooltip('count():Q', title='Crashes')\n",
    "    ]\n",
    ").properties(\n",
    "    title='2023 Daily Crashes in the Greater Chicago Area'\n",
    ")"
   ]
  },
  {
   "cell_type": "markdown",
   "id": "79aa53ba",
   "metadata": {},
   "source": [
    "#### 2. Stacked Area Chart"
   ]
  },
  {
   "cell_type": "code",
   "execution_count": null,
   "id": "b6d58312",
   "metadata": {},
   "outputs": [],
   "source": [
    "df_new = df[df['crash_date'].dt.year > 2014]\n",
    "\n",
    "injury_counts = df_new.groupby(['crash_date_only', 'most_severe_injury']).size().reset_index(name='count')\n",
    "\n",
    "pivot_injury_counts = injury_counts.pivot(index='crash_date_only', columns='most_severe_injury', values='count').fillna(0)\n",
    "\n",
    "long_format = pivot_injury_counts.reset_index().melt(id_vars='crash_date_only', var_name='most_severe_injury', value_name='count')"
   ]
  },
  {
   "cell_type": "code",
   "execution_count": null,
   "id": "898e3a93",
   "metadata": {},
   "outputs": [],
   "source": [
    "alt.Chart(long_format, width=700, height=200).mark_area(opacity=0.7).encode(\n",
    "    x=alt.X('crash_date_only:T', title='Crash Date', axis=alt.Axis(format='%Y %b')),\n",
    "    y=alt.Y('count:Q', title='Number of Crashes'),\n",
    "    color=alt.Color('most_severe_injury:N', title='Most Severe Injury', legend=alt.Legend(orient=\"top\"), scale=alt.Scale(scheme='redyellowgreen')),\n",
    "    tooltip=[\n",
    "        alt.Tooltip('crash_date_only:T', title='Crash Date'),\n",
    "        alt.Tooltip('count:Q', title='Total Crashes'),\n",
    "        alt.Tooltip('most_severe_injury:N', title='Most Severe Injury')\n",
    "    ]\n",
    ").properties(\n",
    "    title=\"Distribution of Injury Severity Over Time\"\n",
    ")"
   ]
  },
  {
   "cell_type": "markdown",
   "id": "e133d73d",
   "metadata": {},
   "source": [
    "#### 3. Double-Time Bar Graph"
   ]
  },
  {
   "cell_type": "code",
   "execution_count": null,
   "id": "5f2e0a10",
   "metadata": {},
   "outputs": [],
   "source": [
    "df['time_category'] = df['crash_hour'].apply(lambda x: '6AM - 5PM' if 6 <= x <= 17 else '6PM - 5AM')\n",
    "\n",
    "hour_order = [6, 7, 8, 9, 10, 11, 12, 1, 2, 3, 4, 5]\n",
    "\n",
    "df['crash_hour_12'] = df['crash_hour'].apply(lambda x: x%12 if x%12 else 12)\n",
    "\n",
    "df['crash_hour_12'] = pd.Categorical(df['crash_hour_12'], categories=hour_order, ordered=True)\n",
    "\n",
    "hourly_counts_12h = df.groupby(['crash_hour_12', 'time_category']).size().reset_index(name='count')"
   ]
  },
  {
   "cell_type": "code",
   "execution_count": null,
   "id": "60047adf",
   "metadata": {},
   "outputs": [],
   "source": [
    "base = alt.Chart(hourly_counts_12h, width=400).transform_calculate(\n",
    "    signed_count=\"datum.time_category == '6PM - 5AM' ? -datum.count : datum.count\"\n",
    ")\n",
    "\n",
    "bar = base.mark_bar().encode(\n",
    "    x=alt.X('signed_count:Q',\n",
    "            title='Number of Crashes',\n",
    "            axis=alt.Axis(labelExpr='abs(datum.value)')),\n",
    "    y=alt.Y('crash_hour_12:O',\n",
    "            title='Hour',\n",
    "            sort=hour_order),\n",
    "    color=alt.Color('time_category:N',\n",
    "                    legend=alt.Legend(orient='top', title=None),\n",
    "                    scale=alt.Scale(range=[\"#FFD700\", \"#001F3F\"]),\n",
    "                    title=None)\n",
    ")\n",
    "\n",
    "text_positive = base.transform_filter(\n",
    "    alt.datum.signed_count > 0\n",
    ").mark_text(\n",
    "    size=8,\n",
    "    align='right',\n",
    "    dx=-4,\n",
    ").encode(\n",
    "    x='signed_count:Q',\n",
    "    y=alt.Y('crash_hour_12:O', sort=hour_order),\n",
    "    text='count:Q',\n",
    "    color=alt.value('black')\n",
    ")\n",
    "\n",
    "text_negative = base.transform_filter(\n",
    "    alt.datum.signed_count <= 0\n",
    ").mark_text(\n",
    "    size=8,\n",
    "    align='left',\n",
    "    dx=4,\n",
    ").encode(\n",
    "    x='signed_count:Q',\n",
    "    y=alt.Y('crash_hour_12:O', sort=hour_order),\n",
    "    text='count:Q',\n",
    "    color=alt.value('white')\n",
    ")\n",
    "\n",
    "# Layer the bar and both text charts\n",
    "alt.layer(bar, text_positive, text_negative).properties(\n",
    "    title=\"Cumulative Hourly Crashes: Day vs. Night\"\n",
    ")\n"
   ]
  },
  {
   "cell_type": "markdown",
   "id": "190bc214",
   "metadata": {},
   "source": [
    "#### 4. Grouped Bar Chart"
   ]
  },
  {
   "cell_type": "code",
   "execution_count": null,
   "id": "19be232b",
   "metadata": {},
   "outputs": [],
   "source": [
    "conditions = ['device_condition', 'weather_condition', 'lighting_condition', 'roadway_surface_cond', 'road_defect']\n",
    "injury_types = ['injuries_fatal', 'injuries_incapacitating', 'injuries_non_incapacitating', 'injuries_reported_not_evident', 'injuries_no_indication', 'injuries_unknown']\n",
    "\n",
    "def aggregate_condition_data(df, condition, injury_types):\n",
    "    agg_data = df.groupby(condition)[injury_types].sum().reset_index()\n",
    "    agg_data_melted = agg_data.melt(id_vars=[condition], value_vars=injury_types, var_name='InjuryType', value_name='Count')\n",
    "    return agg_data_melted[agg_data_melted['Count'] > 0]\n",
    "\n",
    "charts = []\n",
    "for condition in conditions:\n",
    "    data = aggregate_condition_data(df, condition, injury_types)\n",
    "    chart = alt.Chart(data).mark_bar(width=500).encode(\n",
    "        x=alt.X('Count:Q', title=\"Number of Injuries\"),\n",
    "        y=alt.Y(f\"{condition}:N\"),\n",
    "        color=alt.Color('InjuryType:N', legend=alt.Legend(orient=\"top\"), title=\"Type of Injury\"),\n",
    "        tooltip=[\n",
    "            alt.Tooltip(f\"{condition}:N\", title=condition),\n",
    "            alt.Tooltip('InjuryType:N', title=\"Type\"),\n",
    "            alt.Tooltip('Count:Q', title=\"Count\")\n",
    "        ]\n",
    "    ).transform_calculate(\n",
    "        InjuryLabel=\"slice(datum.InjuryType, 9)\"\n",
    "    ).properties(\n",
    "        title=f\"Distribution of Injuries by {condition.replace('_', ' ').title()}\"\n",
    "    )\n",
    "    charts.append(chart)"
   ]
  },
  {
   "cell_type": "code",
   "execution_count": null,
   "id": "5bee48ca",
   "metadata": {},
   "outputs": [],
   "source": [
    "alt.vconcat(*charts)"
   ]
  },
  {
   "cell_type": "markdown",
   "id": "0523fad5",
   "metadata": {},
   "source": [
    "#### 5. Heatmap"
   ]
  },
  {
   "cell_type": "code",
   "execution_count": null,
   "id": "7b5575a6",
   "metadata": {},
   "outputs": [],
   "source": [
    "def is_valid(value):\n",
    "    return pd.notna(value) and value != 'Unknown'\n",
    "\n",
    "filtered_data = df[\n",
    "    df['prim_contributory_cause'].apply(is_valid) &\n",
    "    df['sec_contributory_cause'].apply(is_valid)\n",
    "]\n",
    "\n",
    "def top_ten_values(column):\n",
    "    return column.value_counts().head(10).index.tolist()\n",
    "\n",
    "top_prim = top_ten_values(filtered_data['prim_contributory_cause'])\n",
    "top_sec = top_ten_values(filtered_data['sec_contributory_cause'])\n",
    "\n",
    "contingency_table = pd.crosstab(\n",
    "    index=filtered_data['prim_contributory_cause'],\n",
    "    columns=filtered_data['sec_contributory_cause']\n",
    ")\n",
    "\n",
    "top_contingency_table = contingency_table.loc[top_prim, top_sec]\n",
    "\n",
    "heatmap_df = top_contingency_table.reset_index().melt(id_vars='prim_contributory_cause', var_name='sec_contributory_cause', value_name='count')"
   ]
  },
  {
   "cell_type": "code",
   "execution_count": null,
   "id": "ceb5158c",
   "metadata": {},
   "outputs": [],
   "source": [
    "alt.Chart(heatmap_df).mark_rect(tooltip=True).encode(\n",
    "    x='prim_contributory_cause:N',\n",
    "    y='sec_contributory_cause:N',\n",
    "    color=alt.Color('count:Q', scale=alt.Scale(scheme='redyellowblue'), title='Count')\n",
    ").properties(\n",
    "    title=\"Co-occurrence of Top Contributory Causes in Accidents\"\n",
    ")"
   ]
  },
  {
   "cell_type": "markdown",
   "id": "46eb9920",
   "metadata": {},
   "source": [
    "#### 6. Scatter Plot"
   ]
  },
  {
   "cell_type": "code",
   "execution_count": null,
   "id": "6f692498",
   "metadata": {},
   "outputs": [],
   "source": [
    "filtered_df = df[(df['injuries_total'] > 0)]\n",
    "\n",
    "aggregated_df = filtered_df.groupby(['posted_speed_limit', 'damage']).agg({\n",
    "    'injuries_fatal': 'mean',\n",
    "    'injuries_total': 'sum'\n",
    "}).reset_index()\n",
    "\n",
    "aggregated_df.rename(columns={\n",
    "    'injuries_fatal': 'average_fatal_injuries',\n",
    "    'injuries_total': 'total_injuries'\n",
    "}, inplace=True)"
   ]
  },
  {
   "cell_type": "code",
   "execution_count": null,
   "id": "4e9d5905",
   "metadata": {},
   "outputs": [],
   "source": [
    "alt.Chart(aggregated_df, width=500, height=300).mark_point(filled=True, tooltip=True).encode(\n",
    "    x=alt.X('posted_speed_limit:Q', title=\"Posted Speed Limit\"),\n",
    "    y=alt.Y('average_fatal_injuries:Q', title=\"Average Fatal Injuries\"),\n",
    "    size=alt.Size('total_injuries:Q',\n",
    "                  scale=alt.Scale(type='sqrt', range=[50, 1000]),\n",
    "                  title=\"Injuries (sqrt scale)\"),\n",
    "    color=alt.Color('damage:N',\n",
    "                    scale=alt.Scale(scheme='redyellowgreen', reverse=True),\n",
    "                    title=\"Damage Level\")\n",
    ").properties(\n",
    "    title=\"Fatal and Total Injuries by Speed Limit and Damage Level\"\n",
    ")"
   ]
  },
  {
   "cell_type": "markdown",
   "id": "efdb8bca",
   "metadata": {},
   "source": [
    "### Linked Visualization (4)"
   ]
  },
  {
   "cell_type": "markdown",
   "id": "82d7af46",
   "metadata": {},
   "source": [
    "#### 1. Geospatial Map and Bar Chart"
   ]
  },
  {
   "cell_type": "code",
   "execution_count": null,
   "id": "0aefa3af",
   "metadata": {},
   "outputs": [],
   "source": [
    "crashes_agg = df.groupby(['posted_speed_limit', 'beat_of_occurrence']).agg(\n",
    "    crash_count=('posted_speed_limit', 'size'),  # Count the number of crashes\n",
    "    total_injuries=('injuries_total', 'sum')  # Sum the total injuries\n",
    ").reset_index()"
   ]
  },
  {
   "cell_type": "code",
   "execution_count": null,
   "id": "6f105e7b",
   "metadata": {},
   "outputs": [],
   "source": [
    "gdf = gpd.read_file('Boundaries Police Beats.geojson')\n",
    "gdf['beat_num'] = gdf['beat_num'].astype('int')\n",
    "\n",
    "merged_gdf = gdf.merge(crashes_agg, left_on='beat_num', right_on='beat_of_occurrence')"
   ]
  },
  {
   "cell_type": "code",
   "execution_count": null,
   "id": "354baa65",
   "metadata": {},
   "outputs": [],
   "source": [
    "click_beat = alt.selection_point(fields=['beat_of_occurrence'])\n",
    "click_bar = alt.selection_point(fields=['posted_speed_limit'])\n",
    "\n",
    "choropleth_chart = alt.Chart(merged_gdf).mark_geoshape(stroke=\"white\", strokeWidth=1).encode(\n",
    "    color=alt.condition(\n",
    "        click_beat,\n",
    "        'total_count:Q', \n",
    "        alt.value('lightgray'),\n",
    "        legend=alt.Legend(title=\"Crash Count\", orient='bottom'),\n",
    "    ),\n",
    "    tooltip=[\n",
    "        alt.Tooltip('beat_of_occurrence:N', title='Beat Number'),\n",
    "        alt.Tooltip('total_count:Q', title='Crash Count'),\n",
    "        alt.Tooltip('posted_speed_limit:O', title=\"Posted Speed Limit\")\n",
    "    ]\n",
    "    \n",
    ").add_params(\n",
    "    click_beat\n",
    ").transform_filter(\n",
    "    click_bar\n",
    ").properties(\n",
    "    width=300,\n",
    "    height=500,\n",
    "    title=\"Choropleth Map of Crashes by Beat\"\n",
    ")\n",
    "\n",
    "updated_choropleth = choropleth_chart.transform_joinaggregate(\n",
    "    total_count='sum(crash_count)',\n",
    "    groupby=['beat_of_occurrence']\n",
    ")"
   ]
  },
  {
   "cell_type": "code",
   "execution_count": null,
   "id": "3cf6bc48",
   "metadata": {},
   "outputs": [],
   "source": [
    "bar_chart = alt.Chart(crashes_agg).mark_bar().encode(\n",
    "    y=alt.Y('sum(total_injuries):Q', title=\"Total Injuries\", scale=alt.Scale(type='symlog')),\n",
    "    x=alt.X('posted_speed_limit:O', title=\"Posted Speed Limit\"),\n",
    "    color=alt.condition(\n",
    "        click_bar,\n",
    "        alt.value('steelblue'),\n",
    "        alt.value('lightgray')\n",
    "    ),\n",
    "    tooltip=[\n",
    "        alt.Tooltip('posted_speed_limit:O', title=\"Posted Speed Limit\"),\n",
    "        alt.Tooltip('sum(total_injuries):Q', title=\"Total Injuries\")\n",
    "    ]\n",
    ").add_params(\n",
    "    click_bar\n",
    ").transform_filter(\n",
    "    click_beat \n",
    ").properties(\n",
    "    width=500,\n",
    "    height=400,\n",
    "    title=\"Bar Chart of Total Injuries by Speed Limit\"\n",
    ")\n",
    "\n",
    "updated_bar = bar_chart.transform_filter(\n",
    "    alt.datum.total_injuries > 0\n",
    ")"
   ]
  },
  {
   "cell_type": "code",
   "execution_count": null,
   "id": "80d194e1",
   "metadata": {
    "scrolled": true
   },
   "outputs": [],
   "source": [
    "alt.hconcat(updated_choropleth, updated_bar)"
   ]
  },
  {
   "cell_type": "markdown",
   "id": "5953572f",
   "metadata": {},
   "source": [
    "#### 2. Heatmap and Bubble Chart"
   ]
  },
  {
   "cell_type": "code",
   "execution_count": null,
   "id": "8d491b4e",
   "metadata": {
    "scrolled": true
   },
   "outputs": [],
   "source": [
    "heatmap = alt.Chart(df_23).mark_rect().encode(\n",
    "    x='prim_contributory_cause:N',\n",
    "    y='most_severe_injury:N',\n",
    "    color=alt.Color('count():Q', scale=alt.Scale(scheme='yelloworangered'))\n",
    ").properties(\n",
    "    width=700,\n",
    "    height=300\n",
    ")\n",
    "\n",
    "bubble_chart = alt.Chart(df_23).mark_circle().encode(\n",
    "    x='prim_contributory_cause:N',\n",
    "    y='most_severe_injury:N',\n",
    "    color=alt.Color('count():Q', scale=alt.Scale(scheme='yelloworangered')),\n",
    "    size=alt.Size('count():Q', scale=alt.Scale(range=[0, 1000])),\n",
    "    tooltip=['prim_contributory_cause', 'most_severe_injury', 'count()']\n",
    ").properties(\n",
    "    width=700,\n",
    "    height=300\n",
    ")\n",
    "\n",
    "shared_selection = alt.selection_point(fields=['prim_contributory_cause', 'most_severe_injury'])\n",
    "\n",
    "interactive_heatmap = heatmap.add_params(\n",
    "    shared_selection\n",
    ").transform_filter(\n",
    "    shared_selection\n",
    ")\n",
    "\n",
    "interactive_bubble_chart = bubble_chart.add_params(\n",
    "    shared_selection\n",
    ").transform_filter(\n",
    "    shared_selection\n",
    ")\n",
    "\n",
    "alt.vconcat(interactive_heatmap, interactive_bubble_chart)"
   ]
  },
  {
   "cell_type": "markdown",
   "id": "3e9683ca",
   "metadata": {},
   "source": [
    "#### 3. Parallel Coordinates Plot and Point Chart with Jittering"
   ]
  },
  {
   "cell_type": "code",
   "execution_count": null,
   "id": "ea3b4bd6",
   "metadata": {},
   "outputs": [],
   "source": [
    "df_september = df_23[df_23['crash_date'].dt.month == 9]\n",
    "\n",
    "df_copy = df_september.copy()\n",
    "df_copy['normalized_crash_hour'] = df_copy['crash_hour'] / 24\n",
    "df_copy['crash_day_of_week_code'] = pd.Categorical(df_copy['crash_day_of_week']).codes / 6\n",
    "\n",
    "\n",
    "long_parallel = df_copy.melt(\n",
    "    id_vars=['crash_hour', 'crash_day_of_week'], \n",
    "    value_vars=['normalized_crash_hour', 'crash_day_of_week_code'], \n",
    "    var_name='Measure', \n",
    "    value_name='Value'\n",
    ")\n",
    "\n",
    "long_parallel['index'] = long_parallel.groupby(['crash_hour', 'crash_day_of_week']).ngroup()\n",
    "\n",
    "\n",
    "parcoords_select = alt.selection_point(fields=['index'], on='mouseover', nearest=True)\n",
    "\n",
    "parallel_coordinates = alt.Chart(long_parallel).mark_line().encode(\n",
    "    x='Measure:N',\n",
    "    y='Value:Q',\n",
    "    color=alt.Color('index:N', legend=None),\n",
    "    opacity=alt.condition(parcoords_select, alt.value(0.9), alt.value(0.2))\n",
    ").add_params(parcoords_select).properties(\n",
    "    width=600,\n",
    "    height=300\n",
    ")\n",
    "\n",
    "scatter_select = alt.selection_point(fields=['crash_hour', 'crash_day_of_week'], on='mouseover', nearest=True)\n",
    "\n",
    "df_copy['jitter'] = np.random.uniform(-0.3, 0.3, size=len(df_copy))\n",
    "jittered_scatter = alt.Chart(df_copy).mark_point(opacity=0.7).encode(\n",
    "    x=alt.X('jittered_crash_hour:Q', title='Crash Hour (jittered)'),\n",
    "    y=alt.Y('crash_day_of_week:N', title='Crash Day of Week'),\n",
    "    color=alt.Color('crash_hour:N', scale=alt.Scale(scheme='category10')),\n",
    "    tooltip=['crash_hour:N', 'crash_day_of_week:N']\n",
    ").transform_calculate(\n",
    "    jittered_crash_hour='datum.crash_hour + datum.jitter'\n",
    ").add_params(scatter_select)\n",
    "\n",
    "alt.vconcat(parallel_coordinates, jittered_scatter)"
   ]
  },
  {
   "cell_type": "markdown",
   "id": "9b7c20c0",
   "metadata": {},
   "source": [
    "#### 4. Donut Chart and Line Chart"
   ]
  },
  {
   "cell_type": "code",
   "execution_count": null,
   "id": "b16991e5",
   "metadata": {
    "scrolled": true
   },
   "outputs": [],
   "source": [
    "daily_crash_counts = df_23.groupby(['crash_date_only', 'weather_condition']).size().reset_index(name='crash_count')\n",
    "\n",
    "weather_select = alt.selection_point(fields=['weather_condition'], name=\"weather\")\n",
    "brush = alt.selection_interval(encodings=['x'])\n",
    "\n",
    "weather_donut = alt.Chart(daily_crash_counts).mark_arc(innerRadius=50).encode(\n",
    "    theta=alt.Theta(field='crash_count', aggregate='sum', type='quantitative'),\n",
    "    color=alt.Color('weather_condition:N', legend=None),\n",
    "    tooltip=['weather_condition:N', 'sum(crash_count):Q']\n",
    ").add_params(\n",
    "    weather_select\n",
    ").transform_filter(\n",
    "    brush\n",
    ").properties(\n",
    "    width=150,\n",
    "    height=150,\n",
    "    title=\"Weather\"\n",
    ")\n",
    "\n",
    "\n",
    "line_chart = alt.Chart(daily_crash_counts).mark_line().encode(\n",
    "    x=alt.X('crash_date_only:T', title='Date'),\n",
    "    y=alt.Y('crash_count:Q', title='Number of Crashes'),\n",
    "    color=alt.condition(weather_select, 'weather_condition:N', alt.value('lightgray')),\n",
    "    tooltip=[\n",
    "        alt.Tooltip('crash_date_only:T', title='Date'), \n",
    "        alt.Tooltip('crash_count:Q', title='Number of Crashes')\n",
    "    ]\n",
    ").transform_filter(\n",
    "    weather_select\n",
    ").add_params(\n",
    "    brush\n",
    ").properties(\n",
    "    width=700,\n",
    "    height=150,\n",
    "    title=\"Daily Crashes in 2023\"\n",
    ")\n",
    "\n",
    "alt.hconcat(weather_donut, line_chart)"
   ]
  },
  {
   "cell_type": "markdown",
   "id": "c83c1a50",
   "metadata": {},
   "source": [
    "### Spatial Visualization (1)\n",
    "\n",
    "#### 1. Bubble Map"
   ]
  },
  {
   "cell_type": "code",
   "execution_count": null,
   "id": "8a2a0c12",
   "metadata": {},
   "outputs": [],
   "source": [
    "df_23_copy = df_23.copy()\n",
    "\n",
    "df_23_copy['lat_bin'] = np.floor(df_23_copy['latitude'] / 0.01) * 0.01\n",
    "df_23_copy['lon_bin'] = np.floor(df_23_copy['longitude'] / 0.01) * 0.01\n",
    "\n",
    "binned_crash_counts = df_23_copy.groupby(['lat_bin', 'lon_bin']).size().reset_index(name='crash_count')\n",
    "\n",
    "binned_crash_counts['lat_center'] = binned_crash_counts['lat_bin'] + 0.01 / 2\n",
    "binned_crash_counts['lon_center'] = binned_crash_counts['lon_bin'] + 0.01 / 2\n",
    "\n",
    "bubble_map = alt.Chart(binned_crash_counts).mark_circle().encode(\n",
    "    longitude='lon_center:Q',\n",
    "    latitude='lat_center:Q',\n",
    "    color=alt.Color('crash_count:Q', title='Number of Crashes', scale=alt.Scale(scheme='redyellowgreen', reverse=True)),\n",
    "    tooltip=['lon_center:Q', 'lat_center:Q', 'crash_count:Q']\n",
    ").properties(\n",
    "    width=300,\n",
    "    height=500\n",
    ")\n",
    "\n",
    "gdf_json = gdf.to_json()\n",
    "\n",
    "geoshape_layer = alt.Chart(alt.Data(values=gdf_json)).mark_geoshape(\n",
    "    fill='lightgray',\n",
    "    stroke='black'\n",
    ").properties(\n",
    "    width=300,\n",
    "    height=500\n",
    ")\n",
    "\n",
    "alt.layer(geoshape_layer, bubble_map)\n"
   ]
  }
 ],
 "metadata": {
  "kernelspec": {
   "display_name": "Python 3 (ipykernel)",
   "language": "python",
   "name": "python3"
  },
  "language_info": {
   "codemirror_mode": {
    "name": "ipython",
    "version": 3
   },
   "file_extension": ".py",
   "mimetype": "text/x-python",
   "name": "python",
   "nbconvert_exporter": "python",
   "pygments_lexer": "ipython3",
   "version": "3.9.6"
  }
 },
 "nbformat": 4,
 "nbformat_minor": 5
}
